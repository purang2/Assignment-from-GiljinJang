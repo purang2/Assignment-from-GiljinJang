{
 "metadata": {
  "language_info": {
   "codemirror_mode": {
    "name": "ipython",
    "version": 3
   },
   "file_extension": ".py",
   "mimetype": "text/x-python",
   "name": "python",
   "nbconvert_exporter": "python",
   "pygments_lexer": "ipython3",
   "version": "3.9.4"
  },
  "orig_nbformat": 2,
  "kernelspec": {
   "name": "python394jvsc74a57bd0d708b92321763157f37de519d81887a0eb2dbc14183f20cda4a0707ff0a2fa51",
   "display_name": "Python 3.9.4 64-bit ('my_nlp_env': conda)"
  }
 },
 "nbformat": 4,
 "nbformat_minor": 2,
 "cells": [
  {
   "source": [
    "\n",
    "main 함수 정의"
   ],
   "cell_type": "markdown",
   "metadata": {}
  },
  {
   "cell_type": "code",
   "execution_count": 133,
   "metadata": {},
   "outputs": [],
   "source": [
    "#Hyper Parameters\n",
    "\n",
    "RND_MEAN = 0        #정규분포 난숫값의 평균\n",
    "RND_STD = 0.0030    #정규분포 난숫값의 표준편차\n",
    "\n",
    "LEARNING_RATE = 0.001 \n",
    "\n",
    "def forward_neuralnet(x):\n",
    "    global weight, bias\n",
    "    output = np.matmul(x,weight) + bias\n",
    "    return output, x\n",
    "\n",
    "def backprop_neuralnet(G_output, x):\n",
    "    global weight, bias\n",
    "    g_output_w = x.transpose() \n",
    "\n",
    "    G_w = np.matmul(g_output_w, G_output)\n",
    "    G_b = np.sum(G_output, axis =0)\n",
    "\n",
    "    weight -= LEARNING_RATE * G_w\n",
    "    bias -= LEARNING_RATE * G_b\n",
    "\n",
    "def pulsar_exec(epoch_count=10, mb_size=10, report=1, adjust_ratio=False):\n",
    "    load_pulsar_dataset(adjust_ratio)   #데이터셋 Load\n",
    "    init_model()            #모델 파라미터 초기화\n",
    "    train_and_test(epoch_count, mb_size, report)        #학습 및 평가 과정 수행 "
   ]
  },
  {
   "cell_type": "code",
   "execution_count": 134,
   "metadata": {},
   "outputs": [],
   "source": [
    "def load_pulsar_dataset(adjust_ratio):\n",
    "    \n",
    "    pulsars, stars = [], []\n",
    "    with open('data/pulsar_stars.csv') as csvfile:\n",
    "        csvreader = csv.reader(csvfile)\n",
    "        next(csvreader, None)   #next함수는 csv.reader 다음에 자주쓰이는 함수임 다음 행을 읽는다 뭐 이런 의미라고 하는데 궁금하면 Googling 해보기\n",
    "        rows = []\n",
    "\n",
    "        for row in csvreader:\n",
    "            if row[8] == '1': pulsars.append(row)\n",
    "            else: stars.append(row)\n",
    "\n",
    "    global data, input_cnt, output_cnt\n",
    "    input_cnt, output_cnt = 8,1         #입출력 벡터 크기\n",
    "    \n",
    "    star_cnt, pulsar_cnt = len(stars), len(pulsars)\n",
    "\n",
    "    if adjust_ratio:\n",
    "        data = np.zeros([2*star_cnt, 9])\n",
    "        data[0:star_cnt, :] = np.asarray(stars, dtype='float32')\n",
    "        for n in range(star_cnt):\n",
    "            data[star_cnt+n] = np.asarray(pulsars[n % pulsar_cnt], dtype='float32')\n",
    "    else:\n",
    "        data = np.zeros([star_cnt+pulsar_cnt, 9])\n",
    "        data[0:star_cnt, :] = np.asarray(stars, dtype='float32')\n",
    "        data[star_cnt:, :] = np.asarray(pulsars, dtype='float32')\n",
    "    "
   ]
  },
  {
   "source": [
    "후처리 과정에 대한 순전파와 역전파 함수(backprop) 재정의"
   ],
   "cell_type": "markdown",
   "metadata": {}
  },
  {
   "cell_type": "code",
   "execution_count": 135,
   "metadata": {},
   "outputs": [],
   "source": [
    "import numpy as np \n",
    "\n",
    "def forward_postproc(output, y):\n",
    "    entropy = sigmoid_cross_entropy_with_logits(y, output)\n",
    "    loss = np.mean(entropy)\n",
    "    return loss, [y, output, entropy]\n",
    "\n",
    "def backprop_postproc(G_loss, aux):\n",
    "    y, output, entropy = aux \n",
    "\n",
    "    g_loss_entropy = 1.0 / np.prod(entropy.shape)\n",
    "    g_entropy_output = sigmoid_cross_entropy_with_logits_derv(y, output)\n",
    "\n",
    "    G_entropy = g_loss_entropy * G_loss\n",
    "    G_output = g_entropy_output * G_entropy\n",
    "\n",
    "    return G_output "
   ]
  },
  {
   "source": [
    "시그모이드 관련 함수 정의"
   ],
   "cell_type": "markdown",
   "metadata": {}
  },
  {
   "cell_type": "code",
   "execution_count": 136,
   "metadata": {},
   "outputs": [],
   "source": [
    "def relu(x):\n",
    "    return np.maximum(x,0)\n",
    "\n",
    "def sigmoid(x):\n",
    "    return np.exp(-relu(-x))/ (1.0 + np.exp(-np.abs(x)))\n",
    "\n",
    "def sigmoid_derv(x, y):\n",
    "    return y * (1-y)\n",
    "\n",
    "def sigmoid_cross_entropy_with_logits(z, x):\n",
    "    return relu(x) - x*z + np.log(1 + np.exp(-np.abs(x)))\n",
    "\n",
    "def sigmoid_cross_entropy_with_logits_derv(z, x):\n",
    "    return -z +sigmoid(x)\n",
    "    "
   ]
  },
  {
   "cell_type": "code",
   "execution_count": 137,
   "metadata": {},
   "outputs": [],
   "source": [
    "def init_model():\n",
    "    global weight, bias, input_cnt, output_cnt\n",
    "    weight = np.random.normal(RND_MEAN, RND_STD, [input_cnt, output_cnt])\n",
    "    bias = np.zeros([output_cnt])"
   ]
  },
  {
   "cell_type": "code",
   "execution_count": 138,
   "metadata": {},
   "outputs": [],
   "source": [
    "def train_and_test(epoch_count, mb_size, report):\n",
    "    step_count = arrange_data(mb_size)\n",
    "    test_x, test_y = get_test_data() \n",
    "\n",
    "    for epoch in range(epoch_count):\n",
    "        losses =  []\n",
    "\n",
    "        for n in range(step_count):\n",
    "            train_x, train_y = get_train_data(mb_size, n)\n",
    "            loss, _ = run_train(train_x, train_y)\n",
    "            losses.append(loss)\n",
    "\n",
    "        if report > 0 and (epoch+1) % report ==0:\n",
    "            acc = run_test(test_x, test_y)\n",
    "            acc_str = ','.join(['%5.3f']*4) % tuple(acc)\n",
    "            print('Epoch {}: loss={:5.3f}, result={}'.format(epoch+1, np.mean(losses), acc_str))\n",
    "\n",
    "    acc = run_test(test_x, test_y)\n",
    "    acc_str = ','.join(['%5.3f']*4) % tuple(acc)\n",
    "    #final_acc = run_test(test_x, test_y)\n",
    "    print('\\nFinal Test: final RESULT = {}'.format(acc_str))"
   ]
  },
  {
   "source": [
    "학습 및 평가 데이터 획득 함수 정의"
   ],
   "cell_type": "markdown",
   "metadata": {}
  },
  {
   "cell_type": "code",
   "execution_count": 139,
   "metadata": {},
   "outputs": [],
   "source": [
    "def arrange_data(mb_size):\n",
    "    global data, shuffle_map, test_begin_idx\n",
    "    shuffle_map = np.arange(data.shape[0])\n",
    "    np.random.shuffle(shuffle_map)\n",
    "    step_count = int(data.shape[0] * 0.8) // mb_size\n",
    "    test_begin_idx = step_count * mb_size\n",
    "    return step_count \n",
    "\n",
    "def get_test_data():\n",
    "    global data, shuffle_map, test_begin_idx, output_cnt\n",
    "    test_data = data[shuffle_map[test_begin_idx:]]\n",
    "    return test_data[:, :-output_cnt], test_data[:, -output_cnt:]\n",
    "\n",
    "\n",
    "def get_train_data(mb_size, nth):\n",
    "    global data, shuffle_map, test_begin_idx, output_cnt\n",
    "    if nth == 0:\n",
    "        np.random.shuffle(shuffle_map[:test_begin_idx])\n",
    "    \n",
    "    train_data = data[shuffle_map[mb_size*nth:mb_size*(nth+1)]]\n",
    "    return train_data[:, :-output_cnt], train_data[:, -output_cnt:]\n",
    "\n",
    "\n"
   ]
  },
  {
   "source": [
    "학습 실행 함수와 평가 실행 함수 정의"
   ],
   "cell_type": "markdown",
   "metadata": {}
  },
  {
   "cell_type": "code",
   "execution_count": 140,
   "metadata": {},
   "outputs": [],
   "source": [
    "def run_train(x,y):\n",
    "    output, aux_nn = forward_neuralnet(x)\n",
    "    loss, aux_pp = forward_postproc(output, y)\n",
    "    accuracy = eval_accuracy(output, y)\n",
    "\n",
    "    G_loss = 1.0\n",
    "    G_output = backprop_postproc(G_loss, aux_pp)\n",
    "    backprop_neuralnet(G_output, aux_nn)\n",
    "\n",
    "    return loss, accuracy \n",
    "\n",
    "def run_test(x, y):\n",
    "\n",
    "    output, _ = forward_neuralnet(x)\n",
    "    accuracy =  eval_accuracy(output, y)\n",
    "    return accuracy"
   ]
  },
  {
   "source": [
    "단층 퍼셉트론 순전파 역전파 함수 정의"
   ],
   "cell_type": "markdown",
   "metadata": {}
  },
  {
   "cell_type": "code",
   "execution_count": 141,
   "metadata": {},
   "outputs": [
    {
     "output_type": "execute_result",
     "data": {
      "text/plain": [
       "'\\n\\n#Hyper Parameters\\n\\nRND_MEAN = 0        #정규분포 난숫값의 평균\\nRND_STD = 0.0030    #정규분포 난숫값의 표준편차\\n\\nLEARNING_RATE = 0.001 \\n\\ndef forward_neuralnet(x):\\n    global weight, bias\\n    output = np.matmul(x,weight) + bias\\n    return output, x\\n\\ndef backprop_neuralnet(G_output, x):\\n    global weight, bias\\n    g_output_w = x.transpose() \\n\\n    G_w = np.matmul(g_output_w, G_output)\\n    G_b = np.sum(G_output, axis =0)\\n\\n    weight -= LEARNING_RATE * G_w\\n    bias -= LEARNING_RATE * G_b\\n\\n\\n    '"
      ]
     },
     "metadata": {},
     "execution_count": 141
    }
   ],
   "source": [
    "'''\n",
    "\n",
    "#Hyper Parameters\n",
    "\n",
    "RND_MEAN = 0        #정규분포 난숫값의 평균\n",
    "RND_STD = 0.0030    #정규분포 난숫값의 표준편차\n",
    "\n",
    "LEARNING_RATE = 0.001 \n",
    "\n",
    "def forward_neuralnet(x):\n",
    "    global weight, bias\n",
    "    output = np.matmul(x,weight) + bias\n",
    "    return output, x\n",
    "\n",
    "def backprop_neuralnet(G_output, x):\n",
    "    global weight, bias\n",
    "    g_output_w = x.transpose() \n",
    "\n",
    "    G_w = np.matmul(g_output_w, G_output)\n",
    "    G_b = np.sum(G_output, axis =0)\n",
    "\n",
    "    weight -= LEARNING_RATE * G_w\n",
    "    bias -= LEARNING_RATE * G_b\n",
    "\n",
    "\n",
    "    '''"
   ]
  },
  {
   "source": [
    "실행하기"
   ],
   "cell_type": "markdown",
   "metadata": {}
  },
  {
   "cell_type": "code",
   "execution_count": 17,
   "metadata": {},
   "outputs": [],
   "source": []
  },
  {
   "source": [
    "천체의 펄서 여부 판정 신경망 학습시키기"
   ],
   "cell_type": "markdown",
   "metadata": {}
  },
  {
   "cell_type": "code",
   "execution_count": 142,
   "metadata": {},
   "outputs": [],
   "source": [
    "import csv\n",
    "\n",
    "#pulsar_exec()"
   ]
  },
  {
   "source": [
    "정확도 대신 신경망의 성능을 더 잘 보여줄 지표 , 정밀도(precision)와 재현율(recall)"
   ],
   "cell_type": "markdown",
   "metadata": {}
  },
  {
   "source": [
    "#정밀도 : 신경망이 참으로 추정한 것 가운데 정답이 참인 비율 \n",
    "#재현율 : 거꾸로, 정답이 참인 것들 가운데 신경망이 참으로 추정한 것의 비율 \n",
    "\n",
    "#정밀도와 재현율 중 하나를 살피면 의미가 없다. 두 값을 함께 높여야한다. \n",
    "#-> F1 Score(=F1 value)를 사용 -> 정밀도와 재현율의 조화 평균(역수의 평균의 역수) -> F1 = 2*TP / ((2*TP) +FP + TN)\n"
   ],
   "cell_type": "code",
   "metadata": {},
   "execution_count": 143,
   "outputs": []
  },
  {
   "source": [
    "재정의 -> 메인실행함수, 데이터 적재함수, 정확도 계산함수"
   ],
   "cell_type": "markdown",
   "metadata": {}
  },
  {
   "cell_type": "code",
   "execution_count": 144,
   "metadata": {},
   "outputs": [],
   "source": [
    "'''\n",
    "def pulsar_exec(epoch_count=10, mb_size=10, report=1, adjust_ratio=False):\n",
    "    load_pulsar_dataset(adjust_ratio)   #데이터셋 Load\n",
    "    init_model()            #모델 파라미터 초기화\n",
    "    train_and_test(epoch_count, mb_size, report)        #학습 및 평가 과정 수행 \n",
    "\n",
    "def load_pulsar_dataset(adjust_ratio):\n",
    "    \n",
    "    pulsars, stars = [], []\n",
    "    with open('data/pulsar_stars.csv') as csvfile:\n",
    "        csvreader = csv.reader(csvfile)\n",
    "        next(csvreader, None)   #next함수는 csv.reader 다음에 자주쓰이는 함수임 다음 행을 읽는다 뭐 이런 의미라고 하는데 궁금하면 Googling 해보기\n",
    "        rows = []\n",
    "\n",
    "        for row in csvreader:\n",
    "            if row[8] == '1': pulsars.append(row)\n",
    "            else: stars.append(row)\n",
    "\n",
    "    global data, input_cnt, output_cnt\n",
    "    input_cnt, output_cnt = 8,1         #입출력 벡터 크기\n",
    "    \n",
    "    star_cnt, pulsar_cnt = len(stars), len(pulsars)\n",
    "\n",
    "    if adjust_ratio:\n",
    "        data = np.zeros([2*star_cnt, 9])\n",
    "        data[0:star_cnt, :] = np.asarray(stars, dtype='float32')\n",
    "        for n in range(star_cnt):\n",
    "            data[star_cnt+n] = np.asarray(pulsars[n % pulsar_cnt], dtype='float32')\n",
    "    else:\n",
    "        data = np.zeros([star_cnt+pulsar_cnt, 9])\n",
    "        data[0:star_cnt, :] = np.asarray(stars, dtype='float32')\n",
    "        data[star_cnt:, :] = np.asarray(pulsars, dtype='float32')\n",
    "    \n",
    "    \n",
    "    #data = np.asarray(rows, dtype='float32')    #np.asarray(): 리스트 구조 -> 배열 구조 변환\n",
    "\n",
    "def train_and_test(epoch_count, mb_size, report):\n",
    "    step_count = arrange_data(mb_size)\n",
    "    test_x, test_y = get_test_data() \n",
    "\n",
    "    for epoch in range(epoch_count):\n",
    "        losses =  []\n",
    "\n",
    "        for n in range(step_count):\n",
    "            train_x, train_y = get_train_data(mb_size, n)\n",
    "            loss, _ = run_train(train_x, train_y)\n",
    "            losses.append(loss)\n",
    "\n",
    "        if report > 0 and (epoch+1) % report ==0:\n",
    "            acc = run_test(test_x, test_y)\n",
    "            acc_str = ','.join(['%5.3f']*4) % tuple(acc)\n",
    "            print('Epoch {}: loss={:5.3f}, result={}'.format(epoch+1, np.mean(losses), acc_str))\n",
    "\n",
    "    acc = run_test(test_x, test_y)\n",
    "    acc_str = ','.join(['%5.3f']*4) % tuple(acc)\n",
    "    #final_acc = run_test(test_x, test_y)\n",
    "    print('\\nFinal Test: final RESULT = {}'.format(acc_str))\n",
    "\n",
    "'''\n",
    "global est_yes, ans_yes, est_no, ans_no, tp, fp, fn, tn, accuracy\n",
    "def eval_accuracy(output, y):\n",
    "    global est_yes, ans_yes, est_no, ans_no, tp, fp, fn, tn, accuracy\n",
    "    est_yes = np.greater(output, 0)\n",
    "    ans_yes = np.greater(y, 0.5)\n",
    "    est_no = np.logical_not(est_yes)\n",
    "    ans_no = np.logical_not(ans_yes)\n",
    "\n",
    "    tp = np.sum(np.logical_and(est_yes, ans_yes))\n",
    "    fp = np.sum(np.logical_and(est_yes, ans_no))\n",
    "    fn = np.sum(np.logical_and(est_no, ans_no))\n",
    "    tn = np.sum(np.logical_and(est_no, ans_yes))\n",
    "\n",
    "    accuracy = safe_div(tp+fn, tp+tn+fp+fn)\n",
    "    precision = safe_div(tp, tp+fp)\n",
    "    recall = safe_div(tp, tp+tn)\n",
    "    f1 = 2 * safe_div(recall*precision, recall+precision)\n",
    "\n",
    "    return [accuracy, precision, recall, f1]\n",
    "\n",
    "def safe_div(p, q):\n",
    "\n",
    "    p, q = float(p), float(q)\n",
    "    if np.abs(q) < 1.0e-20: return np.sign(p)\n",
    "    return p / q\n",
    "\n",
    "    "
   ]
  },
  {
   "cell_type": "code",
   "execution_count": 145,
   "metadata": {},
   "outputs": [
    {
     "output_type": "stream",
     "name": "stdout",
     "text": [
      "Epoch 1: loss=0.137, result=0.970,0.926,0.704,0.800\n",
      "Epoch 2: loss=0.119, result=0.967,0.801,0.804,0.803\n",
      "Epoch 3: loss=0.123, result=0.970,0.941,0.684,0.792\n",
      "Epoch 4: loss=0.117, result=0.973,0.925,0.734,0.819\n",
      "Epoch 5: loss=0.117, result=0.973,0.902,0.764,0.827\n",
      "Epoch 6: loss=0.118, result=0.955,0.986,0.472,0.638\n",
      "Epoch 7: loss=0.120, result=0.970,0.953,0.674,0.790\n",
      "Epoch 8: loss=0.115, result=0.968,0.960,0.645,0.771\n",
      "Epoch 9: loss=0.111, result=0.973,0.932,0.728,0.817\n",
      "Epoch 10: loss=0.120, result=0.956,0.711,0.807,0.756\n",
      "\n",
      "Final Test: final RESULT = 0.956,0.711,0.807,0.756\n"
     ]
    }
   ],
   "source": [
    "pulsar_exec()"
   ]
  },
  {
   "cell_type": "code",
   "execution_count": 146,
   "metadata": {},
   "outputs": [
    {
     "output_type": "stream",
     "name": "stdout",
     "text": [
      "Epoch 1: loss=0.403, result=0.920,0.930,0.909,0.920\n",
      "Epoch 2: loss=0.385, result=0.786,0.721,0.943,0.817\n",
      "Epoch 3: loss=0.383, result=0.924,0.968,0.880,0.922\n",
      "Epoch 4: loss=0.374, result=0.927,0.961,0.891,0.925\n",
      "Epoch 5: loss=0.382, result=0.909,0.980,0.838,0.903\n",
      "Epoch 6: loss=0.378, result=0.777,0.702,0.974,0.816\n",
      "Epoch 7: loss=0.380, result=0.921,0.940,0.902,0.920\n",
      "Epoch 8: loss=0.365, result=0.924,0.938,0.911,0.924\n",
      "Epoch 9: loss=0.374, result=0.922,0.946,0.897,0.921\n",
      "Epoch 10: loss=0.365, result=0.923,0.977,0.868,0.919\n",
      "\n",
      "Final Test: final RESULT = 0.923,0.977,0.868,0.919\n"
     ]
    }
   ],
   "source": [
    "pulsar_exec(adjust_ratio=True)"
   ]
  },
  {
   "cell_type": "code",
   "execution_count": 147,
   "metadata": {},
   "outputs": [
    {
     "output_type": "execute_result",
     "data": {
      "text/plain": [
       "(array([[False],\n",
       "        [ True],\n",
       "        [False],\n",
       "        ...,\n",
       "        [False],\n",
       "        [ True],\n",
       "        [False]]),\n",
       " array([[False],\n",
       "        [ True],\n",
       "        [False],\n",
       "        ...,\n",
       "        [False],\n",
       "        [ True],\n",
       "        [False]]),\n",
       " array([[ True],\n",
       "        [False],\n",
       "        [ True],\n",
       "        ...,\n",
       "        [ True],\n",
       "        [False],\n",
       "        [ True]]),\n",
       " array([[ True],\n",
       "        [False],\n",
       "        [ True],\n",
       "        ...,\n",
       "        [ True],\n",
       "        [False],\n",
       "        [ True]]),\n",
       " 2861,\n",
       " 66,\n",
       " 3146,\n",
       " 435,\n",
       " 0.9230178242163491)"
      ]
     },
     "metadata": {},
     "execution_count": 147
    }
   ],
   "source": [
    "est_yes, ans_yes, est_no, ans_no, tp, fp, fn, tn, accuracy"
   ]
  },
  {
   "cell_type": "code",
   "execution_count": null,
   "metadata": {},
   "outputs": [],
   "source": []
  }
 ]
}